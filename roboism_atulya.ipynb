{
 "cells": [
  {
   "cell_type": "code",
   "execution_count": 48,
   "metadata": {},
   "outputs": [
    {
     "name": "stdout",
     "output_type": "stream",
     "text": [
      "23 45 56 67 78\n"
     ]
    }
   ],
   "source": [
    "#Q1\n",
    "def function(list,K):\n",
    "    if K=='asc':\n",
    "        list.sort()\n",
    "    else:\n",
    "        list.sort(reverse=1)\n",
    "    print(P)\n",
    "input_string = input(\"Enter a list element separated by space \")\n",
    "list  = input_string.split()    \n",
    "K=input(\"Enter 'asc' to print in ascending order.Enter 'desc' for descending order=\\n\")\n",
    "function(list,K)"
   ]
  },
  {
   "cell_type": "code",
   "execution_count": 4,
   "metadata": {},
   "outputs": [
    {
     "name": "stdout",
     "output_type": "stream",
     "text": [
      "************4567\n"
     ]
    }
   ],
   "source": [
    "#Q2\n",
    "def paisa():\n",
    "    while True:\n",
    "            cardpin=input(\"Please enter credit card number\\n\")\n",
    "            if (len(cardpin)==16):\n",
    "                break\n",
    "            else:\n",
    "                print(\"Enter a valid input\\n\")\n",
    "    L=\"************\"\n",
    "    for i in range(0,4):\n",
    "        L=L+str(cardpin[i+12])\n",
    "    print(L)\n",
    "paisa()"
   ]
  },
  {
   "cell_type": "code",
   "execution_count": 39,
   "metadata": {},
   "outputs": [
    {
     "name": "stdout",
     "output_type": "stream",
     "text": [
      "6\n"
     ]
    }
   ],
   "source": [
    "#Q3\n",
    "def ARITHMETIC(a,b,operation):\n",
    "    if operation==\"1\":\n",
    "        return a+b\n",
    "    elif operation==\"2\":\n",
    "        return a-b\n",
    "    elif operation==\"3\":\n",
    "        return a/b\n",
    "    elif operation==\"4\":\n",
    "        return a*b\n",
    "i=int(input(\"Enter your first number=\"))\n",
    "j=int(input(\"Enter your second number=\"))\n",
    "operation=input(\"\"\"Enter which operation you want to do:\n",
    "                 1.Addition\n",
    "                 2.Substraction\n",
    "                 3.Division \n",
    "                 4.Multiplication\"\"\")\n",
    "print(ARITHMETIC(i,j,operation))\n"
   ]
  },
  {
   "cell_type": "code",
   "execution_count": 11,
   "metadata": {},
   "outputs": [
    {
     "name": "stdout",
     "output_type": "stream",
     "text": [
      "mmyy  mmaannee  iiss  jjaaii\n"
     ]
    }
   ],
   "source": [
    "#Q4\n",
    "def kaam():\n",
    "    i=input(\"Enter the String:\")\n",
    "    j=\"\"\n",
    "    for p in i:\n",
    "        j=j+(2*p)\n",
    "    print(j)\n",
    "kaam()"
   ]
  },
  {
   "cell_type": "code",
   "execution_count": 14,
   "metadata": {},
   "outputs": [
    {
     "name": "stdout",
     "output_type": "stream",
     "text": [
      "4 Repeats itself\n",
      "\n"
     ]
    }
   ],
   "source": [
    "#Q5\n",
    "def kaam():\n",
    "    try:\n",
    "        i=list(map(int,input(\"Please enter the integer elements of the array with white spaces between them\\n\").split()))\n",
    "    except:\n",
    "        print(\"Please enter a valid input\")\n",
    "        fun()\n",
    "    i.sort()\n",
    "    j=0\n",
    "    k=0\n",
    "    while((k+j)<(len(i)-1)):\n",
    "\n",
    "        if i[k+j]==i[k+j+1]:\n",
    "            print(str(i[k+j])+\" Repeats itself\\n\")\n",
    "            k=k+1\n",
    "        else :\n",
    "            pass\n",
    "        j=j+1\n",
    "kaam()"
   ]
  },
  {
   "cell_type": "code",
   "execution_count": 33,
   "metadata": {},
   "outputs": [
    {
     "name": "stdout",
     "output_type": "stream",
     "text": [
      "2\n",
      "3\n",
      "5\n",
      "7\n"
     ]
    }
   ],
   "source": [
    "#Q6\n",
    "import math\n",
    "def kaam():\n",
    " i=int(input(\"PLZ! ENTER THE RANGE\"))\n",
    " for k in range(2,i+1):\n",
    "     alarm=0\n",
    "     for j in range(2,int(math.sqrt(k)+1)):\n",
    "             if k%j==0:\n",
    "                 alarm=1\n",
    "                 break\n",
    "     if alarm==0:\n",
    "        print(k)\n",
    "kaam()       "
   ]
  },
  {
   "cell_type": "code",
   "execution_count": 19,
   "metadata": {},
   "outputs": [
    {
     "name": "stdout",
     "output_type": "stream",
     "text": [
      "2\n"
     ]
    }
   ],
   "source": [
    "#Q7\n",
    "def kaam():\n",
    "    try:\n",
    "        i=list(map(int,input(\"PLZ! Enter the integer elements of the array with white spaces between them\\t\\n\").split()))\n",
    "    except:\n",
    "        print(\"PLZ! Enter some valid inputs\")\n",
    "        kaam()\n",
    "    b={}\n",
    "    for k in i :\n",
    "        if k in b :\n",
    "            b[k]=b[k]+1\n",
    "        else:\n",
    "            b[k]=0\n",
    "    print(max(b,key=b.get))\n",
    "kaam()"
   ]
  },
  {
   "cell_type": "code",
   "execution_count": 26,
   "metadata": {},
   "outputs": [
    {
     "name": "stdout",
     "output_type": "stream",
     "text": [
      "Sum of digits = 16\n"
     ]
    }
   ],
   "source": [
    "#Q8\n",
    "a =str(input(\"Enter any string: \"))\n",
    "sum = 0\n",
    "for x in a:\n",
    "    if x.isdigit():\n",
    "        sum = sum+int(x)\n",
    "print(\"Sum of digits =\", sum)"
   ]
  },
  {
   "cell_type": "code",
   "execution_count": 42,
   "metadata": {},
   "outputs": [
    {
     "name": "stdout",
     "output_type": "stream",
     "text": [
      "String Sorted in ascending order : ehllo\n"
     ]
    }
   ],
   "source": [
    "#Q9\n",
    "def kaam():\n",
    " A = str(input(\"Enter the string : \"))\n",
    "\n",
    " STRING_LIST=list(A) \n",
    "\n",
    " STRING_TO_SORT=''.join(sorted(STRING_LIST)) \n",
    " print(\"String Sorted in ascending order :\", STRING_TO_SORT)\n",
    "kaam()"
   ]
  },
  {
   "cell_type": "code",
   "execution_count": 25,
   "metadata": {},
   "outputs": [
    {
     "name": "stdout",
     "output_type": "stream",
     "text": [
      "Just before swapping:\n",
      " q= 2 p =3\n",
      "Congrats!! Swapping DONE :\n",
      " q= 3 p =2\n"
     ]
    }
   ],
   "source": [
    "#Q10\n",
    "def kaam():\n",
    "    q=list(map(int,input(\"PLZ! Enter the integer elements of the array with white spaces between them\\n\").split()))\n",
    "\n",
    "    print (f\"Just before swapping:\\n q= {q[0]} p ={q[1]}\")\n",
    "    q[0] = q[0] ^ q[1]\n",
    "    q[1] = q[0] ^ q[1]\n",
    "    q[0] = q[0] ^ q[1]\n",
    "    print (f\"Congrats!! Swapping DONE :\\n q= {q[0]} p ={q[1]}\")\n",
    "kaam()"
   ]
  }
 ],
 "metadata": {
  "interpreter": {
   "hash": "c2179751ad50800ec8979e38a9292780ce66a59a2f5ca0b6decaa9585ea597e9"
  },
  "kernelspec": {
   "display_name": "Python 3.10.4 64-bit",
   "language": "python",
   "name": "python3"
  },
  "language_info": {
   "codemirror_mode": {
    "name": "ipython",
    "version": 3
   },
   "file_extension": ".py",
   "mimetype": "text/x-python",
   "name": "python",
   "nbconvert_exporter": "python",
   "pygments_lexer": "ipython3",
   "version": "3.10.4"
  },
  "orig_nbformat": 4
 },
 "nbformat": 4,
 "nbformat_minor": 2
}
